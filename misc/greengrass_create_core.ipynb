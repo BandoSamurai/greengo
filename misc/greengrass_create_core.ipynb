{
 "cells": [
  {
   "cell_type": "markdown",
   "metadata": {},
   "source": [
    "Install AWS CLI [installed][l_cli] and [configure it][l_cli_config]. Consider using [named profiles][l_namedprofiles].\n",
    "\n",
    "Import boto3 and AWS create clients.\n",
    "\n",
    "[l_cli]: http://docs.aws.amazon.com/cli/latest/userguide/installing.html\n",
    "[l_cli_config]: (http://docs.aws.amazon.com/cli/latest/userguide/cli-chap-getting-started.html)\n",
    "[l_namedprofiles]: (https://docs.aws.amazon.com/cli/latest/userguide/cli-multiple-profiles.html)"
   ]
  },
  {
   "cell_type": "code",
   "execution_count": null,
   "metadata": {},
   "outputs": [],
   "source": [
    "import json\n",
    "import yaml\n",
    "import boto3\n",
    "gg = boto3.client('greengrass')\n",
    "iot = boto3.client('iot')"
   ]
  },
  {
   "cell_type": "code",
   "execution_count": null,
   "metadata": {},
   "outputs": [],
   "source": [
    " group = gg.create_group(Name=\"my_group\")"
   ]
  },
  {
   "cell_type": "code",
   "execution_count": null,
   "metadata": {},
   "outputs": [],
   "source": [
    "keys_cert = iot.create_keys_and_certificate(setAsActive=True)"
   ]
  },
  {
   "cell_type": "code",
   "execution_count": null,
   "metadata": {},
   "outputs": [],
   "source": [
    "core_thing = iot.create_thing(thingName=\"my_group_core_1\")"
   ]
  },
  {
   "cell_type": "code",
   "execution_count": null,
   "metadata": {},
   "outputs": [],
   "source": [
    "iot.attach_thing_principal(thingName=core_thing['thingName'], principal=keys_cert['certificateArn'])"
   ]
  },
  {
   "cell_type": "code",
   "execution_count": null,
   "metadata": {},
   "outputs": [],
   "source": [
    "core_policy_doc = {\n",
    "    \"Version\": \"2012-10-17\",\n",
    "    \"Statement\": [\n",
    "        {\n",
    "            \"Effect\": \"Allow\",\n",
    "            \"Action\": [\n",
    "                \"iot:Publish\",\n",
    "                \"iot:Subscribe\",\n",
    "                \"iot:Connect\",\n",
    "                \"iot:Receive\",\n",
    "                \"iot:GetThingShadow\",\n",
    "                \"iot:DeleteThingShadow\",\n",
    "                \"iot:UpdateThingShadow\"\n",
    "            ],\n",
    "            \"Resource\": [\"arn:aws:iot:\" + boto3.session.Session().region_name + \":*:*\"]\n",
    "        },\n",
    "        {\n",
    "            \"Effect\": \"Allow\",\n",
    "            \"Action\": [\n",
    "                \"greengrass:AssumeRoleForGroup\",\n",
    "                \"greengrass:CreateCertificate\",\n",
    "                \"greengrass:GetConnectivityInfo\",\n",
    "                \"greengrass:GetDeployment\",\n",
    "                \"greengrass:GetDeploymentArtifacts\",\n",
    "                \"greengrass:UpdateConnectivityInfo\",\n",
    "                \"greengrass:UpdateCoreDeploymentStatus\"\n",
    "            ],\n",
    "            \"Resource\": [\"*\"]\n",
    "        }\n",
    "    ]\n",
    "}"
   ]
  },
  {
   "cell_type": "code",
   "execution_count": null,
   "metadata": {},
   "outputs": [],
   "source": [
    "policy = iot.create_policy(\n",
    "    policyName=\"my_core_1_policy\",\n",
    "    policyDocument=json.dumps(core_policy_doc)\n",
    ")"
   ]
  },
  {
   "cell_type": "code",
   "execution_count": null,
   "metadata": {},
   "outputs": [],
   "source": [
    "iot.attach_principal_policy(\n",
    "    policyName=policy['policyName'],\n",
    "    principal=keys_cert['certificateArn']\n",
    ")"
   ]
  },
  {
   "cell_type": "code",
   "execution_count": null,
   "metadata": {},
   "outputs": [],
   "source": [
    "initial_version = {'Cores': []}\n",
    "initial_version['Cores'].append({\n",
    "    'Id': core_thing['thingName'], # Quite intuitive, eh?\n",
    "    'CertificateArn': keys_cert['certificateArn'],\n",
    "    'SyncShadow': False, # Up to you, True|False\n",
    "    'ThingArn': core_thing['thingArn']\n",
    "})"
   ]
  },
  {
   "cell_type": "code",
   "execution_count": null,
   "metadata": {},
   "outputs": [],
   "source": [
    "core_definition = gg.create_core_definition(\n",
    "    Name=\"{0}_core_def\".format(group['Name']),\n",
    "    InitialVersion=initial_version\n",
    ")"
   ]
  },
  {
   "cell_type": "markdown",
   "metadata": {},
   "source": [
    "There is nothing yet at AWS Console at this point. We just lined up the pieces.\n",
    "Let's get to the real business."
   ]
  },
  {
   "cell_type": "code",
   "execution_count": null,
   "metadata": {},
   "outputs": [],
   "source": [
    "group_ver = gg.create_group_version(\n",
    "    GroupId=group['Id'],\n",
    "    CoreDefinitionVersionArn=core_definition['LatestVersionArn']\n",
    ")"
   ]
  },
  {
   "cell_type": "markdown",
   "metadata": {},
   "source": [
    "Now the group is manifested in AWS console.\n",
    "Go check there. Or run the script below to get the links.\n",
    "\n",
    "PS. I can't figure why the core created via API doesn't show up under Greengrass/Cores."
   ]
  },
  {
   "cell_type": "code",
   "execution_count": null,
   "metadata": {},
   "outputs": [],
   "source": [
    "region = boto3.session.Session().region_name\n",
    "print (\"Group: https://.console.aws.amazon.com/iot/home?region={}#/greengrass/groups/{}\".format(region, group['Id']))\n",
    "print (\"Core thing: https://{0}.console.aws.amazon.com/iot/home?{0}#/thing/my_group_core_1\".format(region))\n",
    "print (\"Certificate and policy: https://{0}.console.aws.amazon.com/iot/home?region={0}#/certificate/{1}\".format(region, keys_cert['certificateArn']))"
   ]
  },
  {
   "cell_type": "markdown",
   "metadata": {},
   "source": [
    "### Save the state\n",
    "Save created entities to the file. \n",
    "You'll thank me for that when it's time to clean things up."
   ]
  },
  {
   "cell_type": "code",
   "execution_count": null,
   "metadata": {},
   "outputs": [],
   "source": [
    "state = {\n",
    "    'group': group,\n",
    "    'core_thing': core_thing,\n",
    "    'keys_cert': keys_cert,\n",
    "    'group_ver': group_ver,\n",
    "    'core_definition': core_definition,\n",
    "    'policy': policy\n",
    "}"
   ]
  },
  {
   "cell_type": "code",
   "execution_count": null,
   "metadata": {},
   "outputs": [],
   "source": [
    "with open('./state.json', 'w') as f:\n",
    "    json.dump(state, f, indent=4)"
   ]
  },
  {
   "cell_type": "code",
   "execution_count": null,
   "metadata": {},
   "outputs": [],
   "source": [
    "state"
   ]
  }
 ],
 "metadata": {
  "kernelspec": {
   "display_name": "Python 2",
   "language": "python",
   "name": "python2"
  },
  "language_info": {
   "codemirror_mode": {
    "name": "ipython",
    "version": 2
   },
   "file_extension": ".py",
   "mimetype": "text/x-python",
   "name": "python",
   "nbconvert_exporter": "python",
   "pygments_lexer": "ipython2",
   "version": "2.7.11"
  }
 },
 "nbformat": 4,
 "nbformat_minor": 2
}
